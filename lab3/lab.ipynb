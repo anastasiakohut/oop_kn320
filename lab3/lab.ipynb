{
 "cells": [
  {
   "cell_type": "code",
   "execution_count": null,
   "metadata": {},
   "outputs": [],
   "source": []
  }
 ],
 "metadata": {
  "kernelspec": {
   "display_name": "Python 3.10.6 64-bit",
   "language": "python",
   "name": "python3"
  },
  "language_info": {
   "name": "python",
   "version": "3.10.6"
  },
  "orig_nbformat": 4,
  "vscode": {
   "interpreter": {
    "hash": "0ab60acafe8963cab4fcc13ac137b55a5cda0e67fa0f4ae29da1fac69cf41159"
   }
  }
 },
 "nbformat": 4,
 "nbformat_minor": 2
}
