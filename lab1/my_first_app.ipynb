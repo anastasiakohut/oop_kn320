{
 "cells": [
  {
   "cell_type": "code",
   "execution_count": 2,
   "metadata": {},
   "outputs": [
    {
     "name": "stdout",
     "output_type": "stream",
     "text": [
      "Anastasiya start programming at 2022-09-13 23:22:31.944066\n"
     ]
    }
   ],
   "source": [
    "from datetime import datetime\n",
    "name = \"Anastasiya\"\n",
    "\n",
    "print(f\"{name} start programming at {datetime.now()}\")"
   ]
  },
  {
   "cell_type": "markdown",
   "metadata": {},
   "source": [
    "### Моя перша робота\n",
    "\n",
    "Результат виконання програми в PythonNoteBook"
   ]
  }
 ],
 "metadata": {
  "kernelspec": {
   "display_name": "Python 3.10.6 64-bit",
   "language": "python",
   "name": "python3"
  },
  "language_info": {
   "codemirror_mode": {
    "name": "ipython",
    "version": 3
   },
   "file_extension": ".py",
   "mimetype": "text/x-python",
   "name": "python",
   "nbconvert_exporter": "python",
   "pygments_lexer": "ipython3",
   "version": "3.10.6"
  },
  "orig_nbformat": 4,
  "vscode": {
   "interpreter": {
    "hash": "0ab60acafe8963cab4fcc13ac137b55a5cda0e67fa0f4ae29da1fac69cf41159"
   }
  }
 },
 "nbformat": 4,
 "nbformat_minor": 2
}
