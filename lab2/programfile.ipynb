{
 "cells": [
  {
   "cell_type": "code",
   "execution_count": 4,
   "metadata": {},
   "outputs": [],
   "source": [
    "a = \"змінна з текстом\"\n",
    "b = 1 #числова Змінна\n",
    "c = [\"a\", 1, 1.25, \"Слово\"] #List\n",
    "d = {\"a\": \"Слово\", \"b\": 1} #Dict\n",
    "e = (\"a\", ) #Tuple\n",
    "f = {\"ss\", } #Set\n",
    "g = \"додаткова змінна\""
   ]
  },
  {
   "cell_type": "code",
   "execution_count": 5,
   "metadata": {},
   "outputs": [
    {
     "name": "stdout",
     "output_type": "stream",
     "text": [
      "a False\n",
      "b True\n",
      "c None\n"
     ]
    }
   ],
   "source": [
    "print(\"a\", False)\n",
    "print(\"b\", True)\n",
    "print(\"c\", None)"
   ]
  },
  {
   "cell_type": "code",
   "execution_count": 6,
   "metadata": {},
   "outputs": [
    {
     "name": "stdout",
     "output_type": "stream",
     "text": [
      "128\n",
      "2362\n"
     ]
    }
   ],
   "source": [
    "print(pow(2,7))\n",
    "print(int(2362))"
   ]
  },
  {
   "cell_type": "code",
   "execution_count": 7,
   "metadata": {},
   "outputs": [
    {
     "name": "stdout",
     "output_type": "stream",
     "text": [
      "На позиції 0 знаходиться  14\n",
      "На позиції 1 знаходиться  1\n",
      "На позиції 2 знаходиться  -24\n"
     ]
    }
   ],
   "source": [
    "chyslo = [\"14\", \"1\", \"-24\"]\n",
    "for i in range(len(chyslo)):\n",
    "    print(f\"На позиції {i} знаходиться  {chyslo[i]}\")"
   ]
  },
  {
   "cell_type": "code",
   "execution_count": 8,
   "metadata": {},
   "outputs": [
    {
     "name": "stdout",
     "output_type": "stream",
     "text": [
      "Значить А=True\n",
      "А - правда\n"
     ]
    }
   ],
   "source": [
    "A = True\n",
    "print(\"Значить А=True\" if A else \"Значить А=False\")\n",
    "\n",
    "if A == True:\n",
    "    print(\"А - правда\")\n",
    "elif A == False:\n",
    "    print(\"А - брехня\")"
   ]
  },
  {
   "cell_type": "code",
   "execution_count": 9,
   "metadata": {},
   "outputs": [
    {
     "name": "stdout",
     "output_type": "stream",
     "text": [
      "division by zero\n",
      "Введіть інше значення а\n"
     ]
    }
   ],
   "source": [
    "a = 0\n",
    "try:\n",
    "    print(\"Що буде якщо\", 10/a, \"?\")\n",
    "except Exception as e:\n",
    "    print(e)\n",
    "finally:\n",
    "    print(\"Число підходить\" if a>0 else \"Введіть інше значення а\")"
   ]
  },
  {
   "cell_type": "code",
   "execution_count": 13,
   "metadata": {},
   "outputs": [
    {
     "name": "stdout",
     "output_type": "stream",
     "text": [
      "some_data\n"
     ]
    }
   ],
   "source": [
    "with open(\"test.txt\", \"w\") as f:\n",
    "    f.write(\"some_data\")\n",
    "\n",
    "with open(\"test.txt\", \"r\") as f:\n",
    "    for line in f:\n",
    "        print(line)"
   ]
  },
  {
   "cell_type": "code",
   "execution_count": 17,
   "metadata": {},
   "outputs": [
    {
     "name": "stdout",
     "output_type": "stream",
     "text": [
      "Це просто функція: <function <lambda> at 0x00000195D6F517E0>\n",
      "Це її виклик: Цей код написала: Anastasiya Kohut\n",
      "\n",
      "Сьогодні перша пара - ООП; а друга - Бізнес-планування.\n"
     ]
    }
   ],
   "source": [
    "this_is_lambda = lambda first, last: f'Цей код написала: {first} {last}'\n",
    "print(\"Це просто функція:\", this_is_lambda)\n",
    "print(\"Це її виклик:\", this_is_lambda('Anastasiya', 'Kohut'))\n",
    "\n",
    "print(\"\")\n",
    "\n",
    "lambda_second = lambda first, last: f'Сьогодні перша пара - {first}; а друга - {last}.'\n",
    "print(lambda_second('ООП', 'Бізнес-планування'))"
   ]
  }
 ],
 "metadata": {
  "kernelspec": {
   "display_name": "Python 3.10.6 64-bit",
   "language": "python",
   "name": "python3"
  },
  "language_info": {
   "codemirror_mode": {
    "name": "ipython",
    "version": 3
   },
   "file_extension": ".py",
   "mimetype": "text/x-python",
   "name": "python",
   "nbconvert_exporter": "python",
   "pygments_lexer": "ipython3",
   "version": "3.10.6"
  },
  "orig_nbformat": 4,
  "vscode": {
   "interpreter": {
    "hash": "0ab60acafe8963cab4fcc13ac137b55a5cda0e67fa0f4ae29da1fac69cf41159"
   }
  }
 },
 "nbformat": 4,
 "nbformat_minor": 2
}
